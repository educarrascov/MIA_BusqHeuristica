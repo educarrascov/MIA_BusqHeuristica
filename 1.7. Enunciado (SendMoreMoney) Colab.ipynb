{
  "nbformat": 4,
  "nbformat_minor": 0,
  "metadata": {
    "colab": {
      "name": "Untitled1.ipynb",
      "provenance": [],
      "collapsed_sections": []
    },
    "kernelspec": {
      "name": "python3",
      "display_name": "Python 3"
    },
    "language_info": {
      "name": "python"
    }
  },
  "cells": [
    {
      "cell_type": "code",
      "metadata": {
        "id": "LmYUcafFRoTO"
      },
      "source": [
        "pip install ortools #sólo se necesita una vez, luego comentar para ir más rápido"
      ],
      "execution_count": null,
      "outputs": []
    },
    {
      "cell_type": "code",
      "metadata": {
        "id": "g9DCb2jmRpNM"
      },
      "source": [
        "from __future__ import print_function\n",
        "from ortools.sat.python import cp_model as cp"
      ],
      "execution_count": null,
      "outputs": []
    },
    {
      "cell_type": "code",
      "metadata": {
        "id": "Int6XvbARspQ"
      },
      "source": [
        "def sendmoremoney():\n",
        "  model = cp.CpModel()\n",
        "  #defino variables\n",
        "  s = model.NewIntVar(1,9,'s')\n",
        "  e = model.NewIntVar(0,9,'e')\n",
        "  n = model.NewIntVar(0,9,'n')\n",
        "  d = model.NewIntVar(0,9,'d')\n",
        "  m = model.NewIntVar(1,9,'m')\n",
        "  o = model.NewIntVar(0,9,'o')\n",
        "  r = model.NewIntVar(0,9,'r')\n",
        "  y = model.NewIntVar(0,9,'y')\n",
        "\n",
        "  #añado condición de suma\n",
        "  model.Add(1000*s+100*e+10*n+d+1000*m+100*o+10*r+e == 10000*m+1000*o+100*n+10*e+y)\n",
        "\n",
        "  #genero una lista con todas las variables y digo que deben tomar valores diferentes\n",
        "  listaVariables=[]\n",
        "  listaVariables.append(s)\n",
        "  listaVariables.append(e)\n",
        "  listaVariables.append(n)\n",
        "  listaVariables.append(d)\n",
        "  listaVariables.append(m)\n",
        "  listaVariables.append(o)\n",
        "  listaVariables.append(r)\n",
        "  listaVariables.append(y)\n",
        "  model.AddAllDifferent(listaVariables)\n",
        "\n",
        "  #resuelvo\n",
        "  solver = cp.CpSolver()\n",
        "  status = solver.Solve(model)\n",
        "\n",
        "  #imprimo la solución\n",
        "  print('s = %i' % solver.Value(s))\n",
        "  print('e = %i' % solver.Value(e))\n",
        "  print('n = %i' % solver.Value(n))\n",
        "  print('d = %i' % solver.Value(d))\n",
        "  print('m = %i' % solver.Value(m))\n",
        "  print('o = %i' % solver.Value(o))\n",
        "  print('r = %i' % solver.Value(r))\n",
        "  print('y = %i' % solver.Value(y))\n"
      ],
      "execution_count": null,
      "outputs": []
    },
    {
      "cell_type": "code",
      "metadata": {
        "id": "4rCHn0B1Te-Z"
      },
      "source": [
        "sendmoremoney()"
      ],
      "execution_count": null,
      "outputs": []
    }
  ]
}