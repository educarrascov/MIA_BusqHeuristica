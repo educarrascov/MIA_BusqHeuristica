{
 "cells": [
  {
   "cell_type": "code",
   "execution_count": 1,
   "metadata": {
    "id": "LmYUcafFRoTO"
   },
   "outputs": [
    {
     "name": "stdout",
     "output_type": "stream",
     "text": [
      "Collecting ortools\n",
      "  Downloading ortools-9.0.9048-cp39-cp39-macosx_10_9_x86_64.whl (12.2 MB)\n",
      "\u001b[K     |████████████████████████████████| 12.2 MB 227 kB/s eta 0:00:01\n",
      "\u001b[?25hCollecting protobuf>=3.15.8\n",
      "  Downloading protobuf-3.17.3-cp39-cp39-macosx_10_9_x86_64.whl (1.0 MB)\n",
      "\u001b[K     |████████████████████████████████| 1.0 MB 1.2 MB/s eta 0:00:01\n",
      "\u001b[?25hCollecting absl-py>=0.11\n",
      "  Downloading absl_py-0.13.0-py3-none-any.whl (132 kB)\n",
      "\u001b[K     |████████████████████████████████| 132 kB 1.0 MB/s eta 0:00:01\n",
      "\u001b[?25hRequirement already satisfied: six in /Users/eduardo/.local/share/virtualenvs/eduardo-BbA8MaND/lib/python3.9/site-packages (from absl-py>=0.11->ortools) (1.16.0)\n",
      "Installing collected packages: protobuf, absl-py, ortools\n",
      "Successfully installed absl-py-0.13.0 ortools-9.0.9048 protobuf-3.17.3\n",
      "Note: you may need to restart the kernel to use updated packages.\n"
     ]
    }
   ],
   "source": [
    "pip install ortools #sólo se necesita una vez, luego comentar para ir más rápido"
   ]
  },
  {
   "cell_type": "code",
   "execution_count": 2,
   "metadata": {
    "id": "g9DCb2jmRpNM"
   },
   "outputs": [],
   "source": [
    "from __future__ import print_function\n",
    "from ortools.sat.python import cp_model as cp"
   ]
  },
  {
   "cell_type": "code",
   "execution_count": 3,
   "metadata": {
    "id": "Int6XvbARspQ"
   },
   "outputs": [],
   "source": [
    "def sendmoremoney():\n",
    "  model = cp.CpModel()\n",
    "  #defino variables\n",
    "  s = model.NewIntVar(1,9,'s')\n",
    "  e = model.NewIntVar(0,9,'e')\n",
    "  n = model.NewIntVar(0,9,'n')\n",
    "  d = model.NewIntVar(0,9,'d')\n",
    "  m = model.NewIntVar(1,9,'m')\n",
    "  o = model.NewIntVar(0,9,'o')\n",
    "  r = model.NewIntVar(0,9,'r')\n",
    "  y = model.NewIntVar(0,9,'y')\n",
    "\n",
    "  #añado condición de suma\n",
    "  model.Add(1000*s+100*e+10*n+d+1000*m+100*o+10*r+e == 10000*m+1000*o+100*n+10*e+y)\n",
    "\n",
    "  #genero una lista con todas las variables y digo que deben tomar valores diferentes\n",
    "  listaVariables=[]\n",
    "  listaVariables.append(s)\n",
    "  listaVariables.append(e)\n",
    "  listaVariables.append(n)\n",
    "  listaVariables.append(d)\n",
    "  listaVariables.append(m)\n",
    "  listaVariables.append(o)\n",
    "  listaVariables.append(r)\n",
    "  listaVariables.append(y)\n",
    "  model.AddAllDifferent(listaVariables)\n",
    "\n",
    "  #resuelvo\n",
    "  solver = cp.CpSolver()\n",
    "  status = solver.Solve(model)\n",
    "\n",
    "  #imprimo la solución\n",
    "  print('s = %i' % solver.Value(s))\n",
    "  print('e = %i' % solver.Value(e))\n",
    "  print('n = %i' % solver.Value(n))\n",
    "  print('d = %i' % solver.Value(d))\n",
    "  print('m = %i' % solver.Value(m))\n",
    "  print('o = %i' % solver.Value(o))\n",
    "  print('r = %i' % solver.Value(r))\n",
    "  print('y = %i' % solver.Value(y))\n"
   ]
  },
  {
   "cell_type": "code",
   "execution_count": 4,
   "metadata": {
    "id": "4rCHn0B1Te-Z"
   },
   "outputs": [
    {
     "name": "stdout",
     "output_type": "stream",
     "text": [
      "s = 9\n",
      "e = 5\n",
      "n = 6\n",
      "d = 7\n",
      "m = 1\n",
      "o = 0\n",
      "r = 8\n",
      "y = 2\n"
     ]
    }
   ],
   "source": [
    "sendmoremoney()"
   ]
  },
  {
   "cell_type": "code",
   "execution_count": null,
   "metadata": {},
   "outputs": [],
   "source": []
  }
 ],
 "metadata": {
  "colab": {
   "collapsed_sections": [],
   "name": "Untitled1.ipynb",
   "provenance": []
  },
  "kernelspec": {
   "display_name": "Python 3 (ipykernel)",
   "language": "python",
   "name": "python3"
  },
  "language_info": {
   "codemirror_mode": {
    "name": "ipython",
    "version": 3
   },
   "file_extension": ".py",
   "mimetype": "text/x-python",
   "name": "python",
   "nbconvert_exporter": "python",
   "pygments_lexer": "ipython3",
   "version": "3.9.6"
  }
 },
 "nbformat": 4,
 "nbformat_minor": 4
}
